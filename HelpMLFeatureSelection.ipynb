{
 "cells": [
  {
   "cell_type": "markdown",
   "id": "416a191b-25ee-4d0f-b467-9c391df120be",
   "metadata": {},
   "source": [
    "**Load packages**"
   ]
  },
  {
   "cell_type": "code",
   "execution_count": 1,
   "id": "29791e05-4ebf-4c41-9cf1-fb23851aa311",
   "metadata": {},
   "outputs": [],
   "source": [
    "#OS\n",
    "import os\n",
    "# Pipelines\n",
    "from sklearn.pipeline import Pipeline \n",
    "# Pre-processing\n",
    "from sklearn.preprocessing import StandardScaler # (x-u)/s\n",
    "# Models\n",
    "from sklearn.ensemble import RandomForestClassifier\n",
    "from sklearn.linear_model import LogisticRegression\n",
    "# Models Selection\n",
    "from sklearn.model_selection import GridSearchCV\n",
    "# Models Metrics\n",
    "from sklearn.metrics import precision_recall_fscore_support\n",
    "from sklearn.metrics import f1_score\n",
    "from sklearn.metrics import recall_score\n",
    "from sklearn.metrics import roc_auc_score\n"
   ]
  },
  {
   "cell_type": "code",
   "execution_count": 1,
   "id": "5917264a-e94e-4c22-a9ad-28ec96f6d5b6",
   "metadata": {},
   "outputs": [],
   "source": [
    "#OS\n",
    "import os\n",
    "\n",
    "#Manipulación de Datos\n",
    "import pandas as pd\n",
    "import numpy as np\n",
    "# Pre-processing\n",
    "from sklearn.preprocessing import StandardScaler # (x-u)/s\n",
    "# Models Clustering\n",
    "from sklearn.cluster import KMeans\n",
    "from sklearn.metrics import silhouette_score"
   ]
  },
  {
   "cell_type": "markdown",
   "id": "7bf96189-2d7d-4972-9239-aa24b9b581cd",
   "metadata": {},
   "source": [
    "**Feature Selection for clustering models**"
   ]
  },
  {
   "cell_type": "code",
   "execution_count": 1,
   "id": "9ab19280-4ed2-4124-8381-f01722d514f4",
   "metadata": {},
   "outputs": [
    {
     "name": "stdout",
     "output_type": "stream",
     "text": [
      "Loading Feature Selection for clustering models...\n"
     ]
    }
   ],
   "source": [
    "def FeatureSelectionForClustering(df,maxVars=15,kmInit=\"random\",kmNclusters=6,kmNinit=10,kmMax_iter=300,kmRandomState=42):\n",
    "    #\n",
    "    featureList=df.columns.tolist()\n",
    "    cols_iter=1\n",
    "    selectedFeatures = []\n",
    "    \n",
    "    dfFeatures = pd.DataFrame({'Order': pd.Series(dtype='int'),\n",
    "                                 'Feature': pd.Series(dtype='str'),\n",
    "                                 'Silhouette': pd.Series(dtype='float')})\n",
    "    \n",
    "    # Loop to get list of the best features for Clustering\n",
    "    while(len(selectedFeatures)<maxVars):\n",
    "        # DF to append features to test\n",
    "        costFeatures = pd.DataFrame({'Feature': pd.Series(dtype='str'),\n",
    "                                     'Silhouette': pd.Series(dtype='float')})\n",
    "        # Counter to show remaining quantity of features\n",
    "        cols_iter=1\n",
    "        for i in featureList:\n",
    "            colsTesting=selectedFeatures.copy()  # Colect the best list of feature\n",
    "            colsTesting.append(i) # Append\n",
    "            # Subset\n",
    "            dataSet=df[colsTesting] #subset with testing\n",
    "            # Creating K-means Object and Training model\n",
    "            kmeans = KMeans(init=\"random\",\n",
    "                            n_clusters=6,\n",
    "                            n_init=10,\n",
    "                            max_iter=300,\n",
    "                            random_state=42)\n",
    "            kmeans.fit(dataSet)\n",
    "            # Silhouette score\n",
    "            score = silhouette_score(dataSet, kmeans.labels_)\n",
    "            # Temp Silhouette Dataframe\n",
    "            temp_df = pd.DataFrame({\n",
    "                'Feature': [i],\n",
    "                'Silhouette': [score]})\n",
    "            costFeatures=costFeatures.append(temp_df) # Collecting features\n",
    "            cols_iter=cols_iter+1\n",
    "        # End For\n",
    "        bestSilhouette=costFeatures\n",
    "        bestSilhouette=pd.merge(bestSilhouette, describeCommons(df), how=\"inner\", on=[\"Feature\"])\n",
    "        # Preparing to select the best Feature\n",
    "        bestSilhouette.sort_values([\"Silhouette\", \"%MostCommon\"],\n",
    "                                   axis = 0, ascending = [False, True],\n",
    "                                   inplace = True,\n",
    "                                   ignore_index=True,\n",
    "                                   na_position = \"first\")\n",
    "        print('\\n')\n",
    "        #print(bestSilhouette)\n",
    "        # Best feature\n",
    "        bestSilhouetteFeature=bestSilhouette.iloc[0,0]      # feature\n",
    "        bestSilhouetteMetric =str(bestSilhouette.iloc[0,1]) # silhouette\n",
    "        # Append Best Feature in a list\n",
    "        selectedFeatures.append(bestSilhouetteFeature)\n",
    "        # Remove best feature / update list\n",
    "        featureList.remove(bestSilhouetteFeature)\n",
    "        # Append Features in DF\n",
    "        tempFeatures = pd.DataFrame({\n",
    "            'Order': [len(selectedFeatures)],\n",
    "            'Feature': [bestSilhouetteFeature],\n",
    "            'Silhouette': [bestSilhouetteMetric]})\n",
    "        dfFeatures=dfFeatures.append(tempFeatures) # Collecting features    \n",
    "        # Print the best feature / silhouette\n",
    "        print('The number of features selected until now is : '+str(len(selectedFeatures)))\n",
    "        print('The feature(s) with the best silhouette is **{}** with {}'.format(bestSilhouetteFeature,bestSilhouetteMetric))\n",
    "    \n",
    "    return dfFeatures,selectedFeatures\n",
    "print('Loading Feature Selection for clustering models...')"
   ]
  }
 ],
 "metadata": {
  "kernelspec": {
   "display_name": "Python 3 (ipykernel)",
   "language": "python",
   "name": "python3"
  },
  "language_info": {
   "codemirror_mode": {
    "name": "ipython",
    "version": 3
   },
   "file_extension": ".py",
   "mimetype": "text/x-python",
   "name": "python",
   "nbconvert_exporter": "python",
   "pygments_lexer": "ipython3",
   "version": "3.9.12"
  }
 },
 "nbformat": 4,
 "nbformat_minor": 5
}
